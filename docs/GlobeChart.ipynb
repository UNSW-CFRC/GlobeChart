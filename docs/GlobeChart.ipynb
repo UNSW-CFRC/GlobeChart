{
 "cells": [
  {
   "attachments": {},
   "cell_type": "markdown",
   "metadata": {},
   "source": [
    "# GlobeChart\n",
    "\n",
    "*** A simple 4D data viewer with [Cesium](https://cesiumjs.org) globe and [Chart.js](https://www.chartjs.org/) chart ***\n",
    "\n",
    "### [GlobeChart's first run](http://prog-cities-aqi-jd.s3-website-ap-southeast-2.amazonaws.com): air quality data for Sydney and other locations in NSW Australia.\n",
    "\n",
    "<img src=\"img/screenshot_aqi.png\">\n"
   ]
  }
 ],
 "metadata": {
  "kernelspec": {
   "display_name": "Python 3",
   "language": "python",
   "name": "python3"
  },
  "language_info": {
   "codemirror_mode": {
    "name": "ipython",
    "version": 3
   },
   "file_extension": ".py",
   "mimetype": "text/x-python",
   "name": "python",
   "nbconvert_exporter": "python",
   "pygments_lexer": "ipython3",
   "version": "3.6.1"
  }
 },
 "nbformat": 4,
 "nbformat_minor": 2
}
