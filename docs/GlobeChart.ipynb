{
 "cells": [
  {
   "cell_type": "markdown",
   "metadata": {},
   "source": [
    "# GlobeChart\n",
    "\n",
    "*** A simple 4D data viewer with Cesium globe and Chart.js chart ***\n",
    "\n",
    "I choose to apply the <mark>MIT License</mark> using this rubric (from [choosealicense.com](https://choosealicense.com/)):"
   ]
  },
  {
   "cell_type": "markdown",
   "metadata": {},
   "source": [
    "<ul class=\"triptych situations clearfix\">\n",
    "  <li class=\"whatever\">\n",
    "    <a href=\"licenses/mit\">\n",
    "      <span class=\"triptych-sprite three-arrows\"></span>\n",
    "      <h3>I want it simple and permissive.</h3>\n",
    "    </a>\n",
    "    <p>\n",
    "      The <mark><a href=\"licenses/mit\">MIT License</a></mark> is a permissive license that is short and to the point. It lets people do anything they want with your code as long as they provide attribution back to you and don’t hold you liable.\n",
    "    </p>\n",
    "    <p>\n",
    "        <a href=\"https://github.com/babel/babel/blob/master/LICENSE\">Babel</a>,\n",
    "        <a href=\"https://github.com/dotnet/corefx/blob/master/LICENSE.TXT\">.NET Core</a>,\n",
    "        and\n",
    "        <a href=\"https://github.com/rails/rails/blob/master/MIT-LICENSE\">Rails</a>\n",
    "    use the MIT License.\n",
    "    </p>\n",
    "  </li>\n",
    "  <li class=\"patents\">\n",
    "    <a href=\"licenses/apache-2.0/\">\n",
    "      <span class=\"triptych-sprite lightbulb\"></span>\n",
    "      <h3>I’m concerned about patents.</h3>\n",
    "    </a>\n",
    "    <p>\n",
    "      The <a href=\"licenses/apache-2.0/\">Apache License 2.0</a> is a permissive license similar to the MIT License, but also provides an express grant of patent rights from contributors to users.\n",
    "    </p>\n",
    "    <p>\n",
    "        <a href=\"https://github.com/kubernetes/kubernetes/blob/master/LICENSE\">Kubernetes</a>,\n",
    "        <a href=\"https://github.com/mozilla/pdf.js/blob/master/LICENSE\">PDF.js</a>,\n",
    "        and\n",
    "        <a href=\"https://github.com/apple/swift/blob/master/LICENSE.txt\">Swift</a>\n",
    "    use the Apache License 2.0.\n",
    "    </p>\n",
    "  </li>\n",
    "  <li class=\"copyleft\">\n",
    "    <a href=\"licenses/gpl-3.0/\">\n",
    "      <span class=\"triptych-sprite circular\"></span>\n",
    "      <h3>I care about sharing improvements.</h3>\n",
    "    </a>\n",
    "    <p>\n",
    "      The <a href=\"licenses/gpl-3.0/\">GNU GPLv3</a> is a copyleft license that requires anyone who distributes your code or a derivative work to make the source available under the same terms, and also provides an express grant of patent rights from contributors to users.\n",
    "    </p>\n",
    "    <p>\n",
    "        <a href=\"https://github.com/ansible/ansible/blob/devel/COPYING\">Ansible</a>,\n",
    "        <a href=\"https://git.savannah.gnu.org/cgit/bash.git/tree/COPYING\">Bash</a>,\n",
    "        and\n",
    "        <a href=\"https://git.gnome.org/browse/gimp/tree/COPYING\">GIMP</a>\n",
    "    use the GNU GPLv3.\n",
    "    </p>\n",
    "  </li>\n",
    "</ul>\n"
   ]
  }
 ],
 "metadata": {
  "kernelspec": {
   "display_name": "Python 3",
   "language": "python",
   "name": "python3"
  },
  "language_info": {
   "codemirror_mode": {
    "name": "ipython",
    "version": 3
   },
   "file_extension": ".py",
   "mimetype": "text/x-python",
   "name": "python",
   "nbconvert_exporter": "python",
   "pygments_lexer": "ipython3",
   "version": "3.6.1"
  }
 },
 "nbformat": 4,
 "nbformat_minor": 2
}
